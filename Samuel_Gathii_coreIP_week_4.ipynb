{
  "nbformat": 4,
  "nbformat_minor": 0,
  "metadata": {
    "colab": {
      "name": "Samuel_Gathii_coreIP_week_4",
      "provenance": []
    },
    "kernelspec": {
      "name": "python3",
      "display_name": "Python 3"
    }
  },
  "cells": [
    {
      "cell_type": "code",
      "metadata": {
        "id": "V8Pv-AFI9iAv",
        "colab_type": "code",
        "colab": {}
      },
      "source": [
        "#importing our libraries\n",
        "import pandas as pd\n",
        "import numpy as np\n",
        "import matplotlib.pyplot as plt\n",
        "import seaborn as sns\n",
        "import statsmodels.formula.api as smf\n",
        "import statsmodels.api as sm\n",
        "from sklearn.preprocessing import scale\n",
        "import warnings\n",
        "%matplotlib inline\n",
        "import sklearn_pandas\n",
        "import scipy.stats as stats\n",
        "import math\n",
        "from scipy import stats as st\n",
        "from scipy.stats import ttest_1samp\n",
        "from scipy.stats import binom_test"
      ],
      "execution_count": 0,
      "outputs": []
    },
    {
      "cell_type": "code",
      "metadata": {
        "id": "CxS3-xunWH33",
        "colab_type": "code",
        "colab": {}
      },
      "source": [
        "#reading our dataset\n",
        "df = pd.read_csv(\"/content/autolib_daily_events_postal_code.csv\")"
      ],
      "execution_count": 0,
      "outputs": []
    },
    {
      "cell_type": "code",
      "metadata": {
        "id": "t8Ytbh1BWH7M",
        "colab_type": "code",
        "colab": {
          "base_uri": "https://localhost:8080/",
          "height": 227
        },
        "outputId": "992d88d9-d131-4f6d-a0b3-eb78db433845"
      },
      "source": [
        "#previewing the first five rows\n",
        "df.head()"
      ],
      "execution_count": 91,
      "outputs": [
        {
          "output_type": "execute_result",
          "data": {
            "text/html": [
              "<div>\n",
              "<style scoped>\n",
              "    .dataframe tbody tr th:only-of-type {\n",
              "        vertical-align: middle;\n",
              "    }\n",
              "\n",
              "    .dataframe tbody tr th {\n",
              "        vertical-align: top;\n",
              "    }\n",
              "\n",
              "    .dataframe thead th {\n",
              "        text-align: right;\n",
              "    }\n",
              "</style>\n",
              "<table border=\"1\" class=\"dataframe\">\n",
              "  <thead>\n",
              "    <tr style=\"text-align: right;\">\n",
              "      <th></th>\n",
              "      <th>Postal code</th>\n",
              "      <th>date</th>\n",
              "      <th>n_daily_data_points</th>\n",
              "      <th>dayOfWeek</th>\n",
              "      <th>day_type</th>\n",
              "      <th>BlueCars_taken_sum</th>\n",
              "      <th>BlueCars_returned_sum</th>\n",
              "      <th>Utilib_taken_sum</th>\n",
              "      <th>Utilib_returned_sum</th>\n",
              "      <th>Utilib_14_taken_sum</th>\n",
              "      <th>Utilib_14_returned_sum</th>\n",
              "      <th>Slots_freed_sum</th>\n",
              "      <th>Slots_taken_sum</th>\n",
              "    </tr>\n",
              "  </thead>\n",
              "  <tbody>\n",
              "    <tr>\n",
              "      <th>0</th>\n",
              "      <td>75001</td>\n",
              "      <td>1/1/2018</td>\n",
              "      <td>1440</td>\n",
              "      <td>0</td>\n",
              "      <td>weekday</td>\n",
              "      <td>110</td>\n",
              "      <td>103</td>\n",
              "      <td>3</td>\n",
              "      <td>2</td>\n",
              "      <td>10</td>\n",
              "      <td>9</td>\n",
              "      <td>22</td>\n",
              "      <td>20</td>\n",
              "    </tr>\n",
              "    <tr>\n",
              "      <th>1</th>\n",
              "      <td>75001</td>\n",
              "      <td>1/2/2018</td>\n",
              "      <td>1438</td>\n",
              "      <td>1</td>\n",
              "      <td>weekday</td>\n",
              "      <td>98</td>\n",
              "      <td>94</td>\n",
              "      <td>1</td>\n",
              "      <td>1</td>\n",
              "      <td>8</td>\n",
              "      <td>8</td>\n",
              "      <td>23</td>\n",
              "      <td>22</td>\n",
              "    </tr>\n",
              "    <tr>\n",
              "      <th>2</th>\n",
              "      <td>75001</td>\n",
              "      <td>1/3/2018</td>\n",
              "      <td>1439</td>\n",
              "      <td>2</td>\n",
              "      <td>weekday</td>\n",
              "      <td>138</td>\n",
              "      <td>139</td>\n",
              "      <td>0</td>\n",
              "      <td>0</td>\n",
              "      <td>2</td>\n",
              "      <td>2</td>\n",
              "      <td>27</td>\n",
              "      <td>27</td>\n",
              "    </tr>\n",
              "    <tr>\n",
              "      <th>3</th>\n",
              "      <td>75001</td>\n",
              "      <td>1/4/2018</td>\n",
              "      <td>1320</td>\n",
              "      <td>3</td>\n",
              "      <td>weekday</td>\n",
              "      <td>104</td>\n",
              "      <td>104</td>\n",
              "      <td>2</td>\n",
              "      <td>2</td>\n",
              "      <td>9</td>\n",
              "      <td>8</td>\n",
              "      <td>25</td>\n",
              "      <td>21</td>\n",
              "    </tr>\n",
              "    <tr>\n",
              "      <th>4</th>\n",
              "      <td>75001</td>\n",
              "      <td>1/5/2018</td>\n",
              "      <td>1440</td>\n",
              "      <td>4</td>\n",
              "      <td>weekday</td>\n",
              "      <td>114</td>\n",
              "      <td>117</td>\n",
              "      <td>3</td>\n",
              "      <td>3</td>\n",
              "      <td>6</td>\n",
              "      <td>6</td>\n",
              "      <td>18</td>\n",
              "      <td>20</td>\n",
              "    </tr>\n",
              "  </tbody>\n",
              "</table>\n",
              "</div>"
            ],
            "text/plain": [
              "   Postal code      date  ...  Slots_freed_sum  Slots_taken_sum\n",
              "0        75001  1/1/2018  ...               22               20\n",
              "1        75001  1/2/2018  ...               23               22\n",
              "2        75001  1/3/2018  ...               27               27\n",
              "3        75001  1/4/2018  ...               25               21\n",
              "4        75001  1/5/2018  ...               18               20\n",
              "\n",
              "[5 rows x 13 columns]"
            ]
          },
          "metadata": {
            "tags": []
          },
          "execution_count": 91
        }
      ]
    },
    {
      "cell_type": "code",
      "metadata": {
        "id": "OWwOz8enWH-E",
        "colab_type": "code",
        "colab": {
          "base_uri": "https://localhost:8080/",
          "height": 227
        },
        "outputId": "36624e74-bd34-4386-a4de-70bbf7c1de83"
      },
      "source": [
        "#previewing the first five rows\n",
        "df.tail()"
      ],
      "execution_count": 92,
      "outputs": [
        {
          "output_type": "execute_result",
          "data": {
            "text/html": [
              "<div>\n",
              "<style scoped>\n",
              "    .dataframe tbody tr th:only-of-type {\n",
              "        vertical-align: middle;\n",
              "    }\n",
              "\n",
              "    .dataframe tbody tr th {\n",
              "        vertical-align: top;\n",
              "    }\n",
              "\n",
              "    .dataframe thead th {\n",
              "        text-align: right;\n",
              "    }\n",
              "</style>\n",
              "<table border=\"1\" class=\"dataframe\">\n",
              "  <thead>\n",
              "    <tr style=\"text-align: right;\">\n",
              "      <th></th>\n",
              "      <th>Postal code</th>\n",
              "      <th>date</th>\n",
              "      <th>n_daily_data_points</th>\n",
              "      <th>dayOfWeek</th>\n",
              "      <th>day_type</th>\n",
              "      <th>BlueCars_taken_sum</th>\n",
              "      <th>BlueCars_returned_sum</th>\n",
              "      <th>Utilib_taken_sum</th>\n",
              "      <th>Utilib_returned_sum</th>\n",
              "      <th>Utilib_14_taken_sum</th>\n",
              "      <th>Utilib_14_returned_sum</th>\n",
              "      <th>Slots_freed_sum</th>\n",
              "      <th>Slots_taken_sum</th>\n",
              "    </tr>\n",
              "  </thead>\n",
              "  <tbody>\n",
              "    <tr>\n",
              "      <th>16080</th>\n",
              "      <td>95880</td>\n",
              "      <td>6/15/2018</td>\n",
              "      <td>1440</td>\n",
              "      <td>4</td>\n",
              "      <td>weekday</td>\n",
              "      <td>15</td>\n",
              "      <td>10</td>\n",
              "      <td>0</td>\n",
              "      <td>0</td>\n",
              "      <td>2</td>\n",
              "      <td>3</td>\n",
              "      <td>0</td>\n",
              "      <td>0</td>\n",
              "    </tr>\n",
              "    <tr>\n",
              "      <th>16081</th>\n",
              "      <td>95880</td>\n",
              "      <td>6/16/2018</td>\n",
              "      <td>1440</td>\n",
              "      <td>5</td>\n",
              "      <td>weekend</td>\n",
              "      <td>19</td>\n",
              "      <td>19</td>\n",
              "      <td>0</td>\n",
              "      <td>0</td>\n",
              "      <td>2</td>\n",
              "      <td>1</td>\n",
              "      <td>0</td>\n",
              "      <td>0</td>\n",
              "    </tr>\n",
              "    <tr>\n",
              "      <th>16082</th>\n",
              "      <td>95880</td>\n",
              "      <td>6/17/2018</td>\n",
              "      <td>1440</td>\n",
              "      <td>6</td>\n",
              "      <td>weekend</td>\n",
              "      <td>33</td>\n",
              "      <td>35</td>\n",
              "      <td>1</td>\n",
              "      <td>1</td>\n",
              "      <td>0</td>\n",
              "      <td>0</td>\n",
              "      <td>0</td>\n",
              "      <td>0</td>\n",
              "    </tr>\n",
              "    <tr>\n",
              "      <th>16083</th>\n",
              "      <td>95880</td>\n",
              "      <td>6/18/2018</td>\n",
              "      <td>1440</td>\n",
              "      <td>0</td>\n",
              "      <td>weekday</td>\n",
              "      <td>11</td>\n",
              "      <td>14</td>\n",
              "      <td>3</td>\n",
              "      <td>5</td>\n",
              "      <td>2</td>\n",
              "      <td>2</td>\n",
              "      <td>0</td>\n",
              "      <td>0</td>\n",
              "    </tr>\n",
              "    <tr>\n",
              "      <th>16084</th>\n",
              "      <td>95880</td>\n",
              "      <td>6/19/2018</td>\n",
              "      <td>1370</td>\n",
              "      <td>1</td>\n",
              "      <td>weekday</td>\n",
              "      <td>2</td>\n",
              "      <td>2</td>\n",
              "      <td>2</td>\n",
              "      <td>1</td>\n",
              "      <td>0</td>\n",
              "      <td>0</td>\n",
              "      <td>0</td>\n",
              "      <td>0</td>\n",
              "    </tr>\n",
              "  </tbody>\n",
              "</table>\n",
              "</div>"
            ],
            "text/plain": [
              "       Postal code       date  ...  Slots_freed_sum  Slots_taken_sum\n",
              "16080        95880  6/15/2018  ...                0                0\n",
              "16081        95880  6/16/2018  ...                0                0\n",
              "16082        95880  6/17/2018  ...                0                0\n",
              "16083        95880  6/18/2018  ...                0                0\n",
              "16084        95880  6/19/2018  ...                0                0\n",
              "\n",
              "[5 rows x 13 columns]"
            ]
          },
          "metadata": {
            "tags": []
          },
          "execution_count": 92
        }
      ]
    },
    {
      "cell_type": "code",
      "metadata": {
        "id": "0147Rm1mWIP9",
        "colab_type": "code",
        "colab": {
          "base_uri": "https://localhost:8080/",
          "height": 33
        },
        "outputId": "b15edda9-6e11-4818-c330-cb3a751aae63"
      },
      "source": [
        "#looking at the number of rows and columns\n",
        "df.shape"
      ],
      "execution_count": 93,
      "outputs": [
        {
          "output_type": "execute_result",
          "data": {
            "text/plain": [
              "(16085, 13)"
            ]
          },
          "metadata": {
            "tags": []
          },
          "execution_count": 93
        }
      ]
    },
    {
      "cell_type": "code",
      "metadata": {
        "id": "H-9dbE0nWIS9",
        "colab_type": "code",
        "colab": {
          "base_uri": "https://localhost:8080/",
          "height": 228
        },
        "outputId": "369ace37-838e-4eaf-fb89-943912f69da4"
      },
      "source": [
        "#looking at the columns\n",
        "df.columns.to_list()"
      ],
      "execution_count": 94,
      "outputs": [
        {
          "output_type": "execute_result",
          "data": {
            "text/plain": [
              "['Postal code',\n",
              " 'date',\n",
              " 'n_daily_data_points',\n",
              " 'dayOfWeek',\n",
              " 'day_type',\n",
              " 'BlueCars_taken_sum',\n",
              " 'BlueCars_returned_sum',\n",
              " 'Utilib_taken_sum',\n",
              " 'Utilib_returned_sum',\n",
              " 'Utilib_14_taken_sum',\n",
              " 'Utilib_14_returned_sum',\n",
              " 'Slots_freed_sum',\n",
              " 'Slots_taken_sum']"
            ]
          },
          "metadata": {
            "tags": []
          },
          "execution_count": 94
        }
      ]
    },
    {
      "cell_type": "code",
      "metadata": {
        "id": "NYHhKQ8dKj6y",
        "colab_type": "code",
        "colab": {}
      },
      "source": [
        "#dropping columns that we wont use\n",
        "df = df.drop(['utilib_taken_sum'], axis=1)\n",
        "df = df.drop(['utilib_returned_sum'], axis=1)\n",
        "df = df.drop(['utilib_14_taken_sum'], axis=1)\n",
        "df = df.drop(['utilib_14_returned_sum'], axis=1)"
      ],
      "execution_count": 0,
      "outputs": []
    },
    {
      "cell_type": "code",
      "metadata": {
        "id": "A8LUwjpALj8L",
        "colab_type": "code",
        "colab": {
          "base_uri": "https://localhost:8080/",
          "height": 163
        },
        "outputId": "5354c744-7f8c-4794-9704-140a6075cfcd"
      },
      "source": [
        "df.columns.to_list()"
      ],
      "execution_count": 101,
      "outputs": [
        {
          "output_type": "execute_result",
          "data": {
            "text/plain": [
              "['postal_code',\n",
              " 'date',\n",
              " 'daily_data_points',\n",
              " 'day_of_week',\n",
              " 'day_type',\n",
              " 'bluecars_taken_sum',\n",
              " 'bluecars_returned_sum',\n",
              " 'slots_freed_sum',\n",
              " 'slots_taken_sum']"
            ]
          },
          "metadata": {
            "tags": []
          },
          "execution_count": 101
        }
      ]
    },
    {
      "cell_type": "code",
      "metadata": {
        "id": "0UmDYl4NWIV0",
        "colab_type": "code",
        "colab": {
          "base_uri": "https://localhost:8080/",
          "height": 228
        },
        "outputId": "77e6bb30-bb4f-4448-96b6-662bfade48bf"
      },
      "source": [
        "#cleaning data using strip(),lower(), replace()\n",
        "df.columns =df.columns.str.strip().str.lower().str.replace(' ', '_').str.replace('(', '').str.replace(')', '')\n",
        "df.columns.to_list()"
      ],
      "execution_count": 98,
      "outputs": [
        {
          "output_type": "execute_result",
          "data": {
            "text/plain": [
              "['postal_code',\n",
              " 'date',\n",
              " 'n_daily_data_points',\n",
              " 'dayofweek',\n",
              " 'day_type',\n",
              " 'bluecars_taken_sum',\n",
              " 'bluecars_returned_sum',\n",
              " 'utilib_taken_sum',\n",
              " 'utilib_returned_sum',\n",
              " 'utilib_14_taken_sum',\n",
              " 'utilib_14_returned_sum',\n",
              " 'slots_freed_sum',\n",
              " 'slots_taken_sum']"
            ]
          },
          "metadata": {
            "tags": []
          },
          "execution_count": 98
        }
      ]
    },
    {
      "cell_type": "code",
      "metadata": {
        "id": "WbjuZOYuZ9gs",
        "colab_type": "code",
        "colab": {
          "base_uri": "https://localhost:8080/",
          "height": 228
        },
        "outputId": "d82f8e0a-a400-4c08-e5a7-09f55f20925a"
      },
      "source": [
        "df.rename(columns={'n_daily_data_points':'daily_data_points'}, inplace = True)\n",
        "df.rename(columns={'dayofweek':'day_of_week'}, inplace = True)\n",
        "df.columns.to_list()"
      ],
      "execution_count": 99,
      "outputs": [
        {
          "output_type": "execute_result",
          "data": {
            "text/plain": [
              "['postal_code',\n",
              " 'date',\n",
              " 'daily_data_points',\n",
              " 'day_of_week',\n",
              " 'day_type',\n",
              " 'bluecars_taken_sum',\n",
              " 'bluecars_returned_sum',\n",
              " 'utilib_taken_sum',\n",
              " 'utilib_returned_sum',\n",
              " 'utilib_14_taken_sum',\n",
              " 'utilib_14_returned_sum',\n",
              " 'slots_freed_sum',\n",
              " 'slots_taken_sum']"
            ]
          },
          "metadata": {
            "tags": []
          },
          "execution_count": 99
        }
      ]
    },
    {
      "cell_type": "code",
      "metadata": {
        "id": "32uvKsPbZ9jP",
        "colab_type": "code",
        "colab": {
          "base_uri": "https://localhost:8080/",
          "height": 180
        },
        "outputId": "aaf6123c-7adc-4a24-a079-730975c141f9"
      },
      "source": [
        "#looking for missing data\n",
        "df.isna().sum()"
      ],
      "execution_count": 25,
      "outputs": [
        {
          "output_type": "execute_result",
          "data": {
            "text/plain": [
              "postal_code              0\n",
              "date                     0\n",
              "daily_data_points        0\n",
              "day_of_week              0\n",
              "day_type                 0\n",
              "bluecars_taken_sum       0\n",
              "bluecars_returned_sum    0\n",
              "slots_freed_sum          0\n",
              "slots_taken_sum          0\n",
              "dtype: int64"
            ]
          },
          "metadata": {
            "tags": []
          },
          "execution_count": 25
        }
      ]
    },
    {
      "cell_type": "code",
      "metadata": {
        "id": "ytagkkaBZ9l5",
        "colab_type": "code",
        "colab": {
          "base_uri": "https://localhost:8080/",
          "height": 948
        },
        "outputId": "fa5bbafb-ce09-47f2-b6bb-ec54d5051359"
      },
      "source": [
        "#checking for outliers using box plot\n",
        "\n",
        "col_names= ['daily_data_points', 'bluecars_taken_sum', 'bluecars_returned_sum', 'slots_freed_sum', 'slots_taken_sum']\n",
        "fig, ax=plt.subplots(len(col_names), figsize=(20,16))\n",
        "for i, col_val in enumerate(col_names):\n",
        "  sns.boxplot(df[col_val], ax=ax[i])\n",
        "  ax[i].set_title ('box plot for  '+col_val, fontsize= 12)\n",
        "  ax[i].set_xlabel(col_val, fontsize= 10)\n",
        "  ax[i].set_ylabel('count', fontsize= 10)\n",
        "plt.show()"
      ],
      "execution_count": 27,
      "outputs": [
        {
          "output_type": "display_data",
          "data": {
            "image/png": "[encoded data removed]",
            "text/plain": [
              "<Figure size 1440x1152 with 5 Axes>"
            ]
          },
          "metadata": {
            "tags": [],
            "needs_background": "light"
          }
        }
      ]
    },
    {
      "cell_type": "code",
      "metadata": {
        "id": "AdQd5cJmZ9og",
        "colab_type": "code",
        "colab": {
          "base_uri": "https://localhost:8080/",
          "height": 277
        },
        "outputId": "6d7254b3-a73c-4229-90de-cc114971e849"
      },
      "source": [
        "df.describe()\n"
      ],
      "execution_count": 28,
      "outputs": [
        {
          "output_type": "execute_result",
          "data": {
            "text/html": [
              "<div>\n",
              "<style scoped>\n",
              "    .dataframe tbody tr th:only-of-type {\n",
              "        vertical-align: middle;\n",
              "    }\n",
              "\n",
              "    .dataframe tbody tr th {\n",
              "        vertical-align: top;\n",
              "    }\n",
              "\n",
              "    .dataframe thead th {\n",
              "        text-align: right;\n",
              "    }\n",
              "</style>\n",
              "<table border=\"1\" class=\"dataframe\">\n",
              "  <thead>\n",
              "    <tr style=\"text-align: right;\">\n",
              "      <th></th>\n",
              "      <th>postal_code</th>\n",
              "      <th>daily_data_points</th>\n",
              "      <th>day_of_week</th>\n",
              "      <th>bluecars_taken_sum</th>\n",
              "      <th>bluecars_returned_sum</th>\n",
              "      <th>slots_freed_sum</th>\n",
              "      <th>slots_taken_sum</th>\n",
              "    </tr>\n",
              "  </thead>\n",
              "  <tbody>\n",
              "    <tr>\n",
              "      <th>count</th>\n",
              "      <td>16085.000000</td>\n",
              "      <td>16085.000000</td>\n",
              "      <td>16085.000000</td>\n",
              "      <td>16085.000000</td>\n",
              "      <td>16085.000000</td>\n",
              "      <td>16085.000000</td>\n",
              "      <td>16085.000000</td>\n",
              "    </tr>\n",
              "    <tr>\n",
              "      <th>mean</th>\n",
              "      <td>88791.293876</td>\n",
              "      <td>1431.330619</td>\n",
              "      <td>2.969599</td>\n",
              "      <td>125.926951</td>\n",
              "      <td>125.912714</td>\n",
              "      <td>22.629033</td>\n",
              "      <td>22.629282</td>\n",
              "    </tr>\n",
              "    <tr>\n",
              "      <th>std</th>\n",
              "      <td>7647.342000</td>\n",
              "      <td>33.212050</td>\n",
              "      <td>2.008378</td>\n",
              "      <td>185.426579</td>\n",
              "      <td>185.501535</td>\n",
              "      <td>52.120263</td>\n",
              "      <td>52.146030</td>\n",
              "    </tr>\n",
              "    <tr>\n",
              "      <th>min</th>\n",
              "      <td>75001.000000</td>\n",
              "      <td>1174.000000</td>\n",
              "      <td>0.000000</td>\n",
              "      <td>0.000000</td>\n",
              "      <td>0.000000</td>\n",
              "      <td>0.000000</td>\n",
              "      <td>0.000000</td>\n",
              "    </tr>\n",
              "    <tr>\n",
              "      <th>25%</th>\n",
              "      <td>91330.000000</td>\n",
              "      <td>1439.000000</td>\n",
              "      <td>1.000000</td>\n",
              "      <td>20.000000</td>\n",
              "      <td>20.000000</td>\n",
              "      <td>0.000000</td>\n",
              "      <td>0.000000</td>\n",
              "    </tr>\n",
              "    <tr>\n",
              "      <th>50%</th>\n",
              "      <td>92340.000000</td>\n",
              "      <td>1440.000000</td>\n",
              "      <td>3.000000</td>\n",
              "      <td>46.000000</td>\n",
              "      <td>46.000000</td>\n",
              "      <td>0.000000</td>\n",
              "      <td>0.000000</td>\n",
              "    </tr>\n",
              "    <tr>\n",
              "      <th>75%</th>\n",
              "      <td>93400.000000</td>\n",
              "      <td>1440.000000</td>\n",
              "      <td>5.000000</td>\n",
              "      <td>135.000000</td>\n",
              "      <td>135.000000</td>\n",
              "      <td>5.000000</td>\n",
              "      <td>5.000000</td>\n",
              "    </tr>\n",
              "    <tr>\n",
              "      <th>max</th>\n",
              "      <td>95880.000000</td>\n",
              "      <td>1440.000000</td>\n",
              "      <td>6.000000</td>\n",
              "      <td>1352.000000</td>\n",
              "      <td>1332.000000</td>\n",
              "      <td>360.000000</td>\n",
              "      <td>359.000000</td>\n",
              "    </tr>\n",
              "  </tbody>\n",
              "</table>\n",
              "</div>"
            ],
            "text/plain": [
              "        postal_code  daily_data_points  ...  slots_freed_sum  slots_taken_sum\n",
              "count  16085.000000       16085.000000  ...     16085.000000     16085.000000\n",
              "mean   88791.293876        1431.330619  ...        22.629033        22.629282\n",
              "std     7647.342000          33.212050  ...        52.120263        52.146030\n",
              "min    75001.000000        1174.000000  ...         0.000000         0.000000\n",
              "25%    91330.000000        1439.000000  ...         0.000000         0.000000\n",
              "50%    92340.000000        1440.000000  ...         0.000000         0.000000\n",
              "75%    93400.000000        1440.000000  ...         5.000000         5.000000\n",
              "max    95880.000000        1440.000000  ...       360.000000       359.000000\n",
              "\n",
              "[8 rows x 7 columns]"
            ]
          },
          "metadata": {
            "tags": []
          },
          "execution_count": 28
        }
      ]
    },
    {
      "cell_type": "code",
      "metadata": {
        "id": "NuZ0wu77Z9qz",
        "colab_type": "code",
        "colab": {
          "base_uri": "https://localhost:8080/",
          "height": 66
        },
        "outputId": "13952f31-821f-442c-aa53-b79ac70bedc1"
      },
      "source": [
        "# Creating our frequency table using value counts\n",
        "df.day_type.value_counts()"
      ],
      "execution_count": 20,
      "outputs": [
        {
          "output_type": "execute_result",
          "data": {
            "text/plain": [
              "weekday    11544\n",
              "weekend     4541\n",
              "Name: day_type, dtype: int64"
            ]
          },
          "metadata": {
            "tags": []
          },
          "execution_count": 20
        }
      ]
    },
    {
      "cell_type": "code",
      "metadata": {
        "id": "ONqf5nN5h0Cn",
        "colab_type": "code",
        "colab": {}
      },
      "source": [
        ""
      ],
      "execution_count": 0,
      "outputs": []
    },
    {
      "cell_type": "code",
      "metadata": {
        "id": "aw_cimnsh0LN",
        "colab_type": "code",
        "colab": {
          "base_uri": "https://localhost:8080/",
          "height": 436
        },
        "outputId": "c2c29a26-d43c-4a3c-b968-9228901bc9fe"
      },
      "source": [
        "# comparing day type to column= df.day_type.value_counts()\n",
        "column\n",
        "\n",
        "# accessing the data to plot\n",
        "\n",
        "# labels\n",
        "sizes= column.index\n",
        "sizes\n",
        "\n",
        "# values\n",
        "column_value = column.values\n",
        "column_value\n",
        "# Colors\n",
        "colors = ['lightcoral', 'lightskyblue']\n",
        "# plotting the pie chart\n",
        "\n",
        "plt.figure(figsize = (5,5), dpi = 100)\n",
        "plt.pie(column_value, labels = sizes,colors= colors, autopct = '%1.1f%%', shadow = True, explode = (0.1,0), startangle = 90)\n",
        "plt.axis('equal')\n",
        "plt.title('A Pie Chart of blucars usage weekday vs weekend')\n",
        "plt.show()"
      ],
      "execution_count": 127,
      "outputs": [
        {
          "output_type": "display_data",
          "data": {
            "image/png": "[encoded data removed]",
            "text/plain": [
              "<Figure size 500x500 with 1 Axes>"
            ]
          },
          "metadata": {
            "tags": []
          }
        }
      ]
    },
    {
      "cell_type": "code",
      "metadata": {
        "id": "i_cv_UTUj9pt",
        "colab_type": "code",
        "colab": {
          "base_uri": "https://localhost:8080/",
          "height": 403
        },
        "outputId": "c852ea33-a898-47a7-cefd-a04d6daa0774"
      },
      "source": [
        "# Plotting a bar plot of the day ot the week \n",
        "\n",
        "plt.figure(dpi = 100)\n",
        "sns.set_style('darkgrid')\n",
        "sns.countplot(df.day_of_week)\n",
        "plt.title('A bar Plot of the number of week', color = 'magenta')\n",
        "plt.show()"
      ],
      "execution_count": 128,
      "outputs": [
        {
          "output_type": "display_data",
          "data": {
            "image/png": "[encoded data removed]",
            "text/plain": [
              "<Figure size 600x400 with 1 Axes>"
            ]
          },
          "metadata": {
            "tags": [],
            "needs_background": "light"
          }
        }
      ]
    },
    {
      "cell_type": "code",
      "metadata": {
        "id": "H0Tppqfgj9m4",
        "colab_type": "code",
        "colab": {
          "base_uri": "https://localhost:8080/",
          "height": 312
        },
        "outputId": "3f326bea-39dd-4281-b81a-229de1f26a2b"
      },
      "source": [
        "#Histogram to show relationship between bluecars taken on weekday\n",
        "df = df[df.day_type == 'weekday']\n",
        "sns.distplot(df['bluecars_taken_sum'],  kde=False,label='Yes')\n",
        "plt.ylabel('Frequnecy')\n",
        "plt.title('Histogram showing bluecars taken on weekday')"
      ],
      "execution_count": 129,
      "outputs": [
        {
          "output_type": "execute_result",
          "data": {
            "text/plain": [
              "Text(0.5, 1.0, 'Histogram showing household size with a bank account')"
            ]
          },
          "metadata": {
            "tags": []
          },
          "execution_count": 129
        },
        {
          "output_type": "display_data",
          "data": {
            "image/png": "[encoded data removed]",
            "text/plain": [
              "<Figure size 432x288 with 1 Axes>"
            ]
          },
          "metadata": {
            "tags": []
          }
        }
      ]
    },
    {
      "cell_type": "code",
      "metadata": {
        "id": "67cBJDHWnJ2-",
        "colab_type": "code",
        "colab": {}
      },
      "source": [
        "#scatter plot\n",
        "plt.figure(dpi = 100)\n",
        "\n",
        "# plotting our scatterplot using matplotlib\n",
        "plt.scatter(df['bluecars_taken_sum'], df['slots_taken_sum'])\n",
        "\n",
        "# Giving the scatterplot a title\n",
        "plt.title('A scatter plot of bluecars_taken_sum vs slots_taken_sum', color = 'black')\n",
        "\n",
        "# Labelling the x -axis\n",
        "plt.xlabel('bluecars_taken_sum')\n",
        "\n",
        "# Labelling the y- axis\n",
        "plt.ylabel('slots_taken_sum')\n",
        "\n",
        "# We then display our scatterplot \n",
        "plt.show()"
      ],
      "execution_count": 0,
      "outputs": []
    },
    {
      "cell_type": "code",
      "metadata": {
        "id": "WDMrMlACnLdR",
        "colab_type": "code",
        "colab": {}
      },
      "source": [
        ""
      ],
      "execution_count": 0,
      "outputs": []
    },
    {
      "cell_type": "code",
      "metadata": {
        "id": "AEjbP2Fk5zxm",
        "colab_type": "code",
        "colab": {
          "base_uri": "https://localhost:8080/",
          "height": 180
        },
        "outputId": "0105ad97-fe1b-4e00-9bb3-f7a15af2c839"
      },
      "source": [
        "df.apply(lambda x : x.nunique())"
      ],
      "execution_count": 54,
      "outputs": [
        {
          "output_type": "execute_result",
          "data": {
            "text/plain": [
              "postal_code              104\n",
              "date                     156\n",
              "daily_data_points         23\n",
              "day_of_week                7\n",
              "day_type                   2\n",
              "bluecars_taken_sum       932\n",
              "bluecars_returned_sum    929\n",
              "slots_freed_sum          297\n",
              "slots_taken_sum          301\n",
              "dtype: int64"
            ]
          },
          "metadata": {
            "tags": []
          },
          "execution_count": 54
        }
      ]
    },
    {
      "cell_type": "code",
      "metadata": {
        "id": "Krso_Syk6LQW",
        "colab_type": "code",
        "colab": {
          "base_uri": "https://localhost:8080/",
          "height": 131
        },
        "outputId": "c778fed4-40d3-4f45-e981-fc8273adf1a9"
      },
      "source": [
        "#standardize all the numerical features\n",
        "num_scaled = scale (df[['daily_data_points','bluecars_taken_sum','bluecars_returned_sum','slots_freed_sum','slots_taken_sum']],copy=False)\n",
        "#scale takes the difference of each values from the mean and divide by standard deviation\n",
        "num_scaled"
      ],
      "execution_count": 58,
      "outputs": [
        {
          "output_type": "execute_result",
          "data": {
            "text/plain": [
              "array([[ 0.26103932, -0.08589624, -0.12352149, -0.01206926, -0.05042308],\n",
              "       [ 0.20081834, -0.15061389, -0.17204012,  0.00711774, -0.01206806],\n",
              "       [ 0.23092883,  0.06511162,  0.07055302,  0.0838657 ,  0.0838195 ],\n",
              "       ...,\n",
              "       [ 0.26103932, -0.50116785, -0.49010667, -0.43418308, -0.43397331],\n",
              "       [ 0.26103932, -0.61981688, -0.6033168 , -0.43418308, -0.43397331],\n",
              "       [-1.84669495, -0.66835512, -0.6680083 , -0.43418308, -0.43397331]])"
            ]
          },
          "metadata": {
            "tags": []
          },
          "execution_count": 58
        }
      ]
    },
    {
      "cell_type": "code",
      "metadata": {
        "id": "9V-MnPKQ6LTX",
        "colab_type": "code",
        "colab": {
          "base_uri": "https://localhost:8080/",
          "height": 133
        },
        "outputId": "8860b1c0-5384-4482-ac0b-c29462e1b8af"
      },
      "source": [
        "df.groupby('day_type')['bluecars_taken_sum'].describe()"
      ],
      "execution_count": 62,
      "outputs": [
        {
          "output_type": "execute_result",
          "data": {
            "text/html": [
              "<div>\n",
              "<style scoped>\n",
              "    .dataframe tbody tr th:only-of-type {\n",
              "        vertical-align: middle;\n",
              "    }\n",
              "\n",
              "    .dataframe tbody tr th {\n",
              "        vertical-align: top;\n",
              "    }\n",
              "\n",
              "    .dataframe thead th {\n",
              "        text-align: right;\n",
              "    }\n",
              "</style>\n",
              "<table border=\"1\" class=\"dataframe\">\n",
              "  <thead>\n",
              "    <tr style=\"text-align: right;\">\n",
              "      <th></th>\n",
              "      <th>count</th>\n",
              "      <th>mean</th>\n",
              "      <th>std</th>\n",
              "      <th>min</th>\n",
              "      <th>25%</th>\n",
              "      <th>50%</th>\n",
              "      <th>75%</th>\n",
              "      <th>max</th>\n",
              "    </tr>\n",
              "    <tr>\n",
              "      <th>day_type</th>\n",
              "      <th></th>\n",
              "      <th></th>\n",
              "      <th></th>\n",
              "      <th></th>\n",
              "      <th></th>\n",
              "      <th></th>\n",
              "      <th></th>\n",
              "      <th></th>\n",
              "    </tr>\n",
              "  </thead>\n",
              "  <tbody>\n",
              "    <tr>\n",
              "      <th>weekday</th>\n",
              "      <td>11544.0</td>\n",
              "      <td>116.028673</td>\n",
              "      <td>169.626905</td>\n",
              "      <td>0.0</td>\n",
              "      <td>18.0</td>\n",
              "      <td>42.0</td>\n",
              "      <td>126.0</td>\n",
              "      <td>1093.0</td>\n",
              "    </tr>\n",
              "    <tr>\n",
              "      <th>weekend</th>\n",
              "      <td>4541.0</td>\n",
              "      <td>151.090068</td>\n",
              "      <td>218.565642</td>\n",
              "      <td>0.0</td>\n",
              "      <td>25.0</td>\n",
              "      <td>59.0</td>\n",
              "      <td>156.0</td>\n",
              "      <td>1352.0</td>\n",
              "    </tr>\n",
              "  </tbody>\n",
              "</table>\n",
              "</div>"
            ],
            "text/plain": [
              "            count        mean         std  min   25%   50%    75%     max\n",
              "day_type                                                                 \n",
              "weekday   11544.0  116.028673  169.626905  0.0  18.0  42.0  126.0  1093.0\n",
              "weekend    4541.0  151.090068  218.565642  0.0  25.0  59.0  156.0  1352.0"
            ]
          },
          "metadata": {
            "tags": []
          },
          "execution_count": 62
        }
      ]
    },
    {
      "cell_type": "code",
      "metadata": {
        "id": "PY36iUa9Z91j",
        "colab_type": "code",
        "colab": {}
      },
      "source": [
        "#since our points of interest are area X and area Y with postal code 75015, 75017 respectively,\n",
        "# we filter the df\n",
        "\n",
        "area_Y = df[df.postal_code == 75017]\n",
        "area_Y.reset_index(inplace= True)\n"
      ],
      "execution_count": 0,
      "outputs": []
    },
    {
      "cell_type": "code",
      "metadata": {
        "id": "CXKsg0r96LlY",
        "colab_type": "code",
        "colab": {
          "base_uri": "https://localhost:8080/",
          "height": 133
        },
        "outputId": "6ceb5e2d-ce81-456d-f9ca-30195bd25d40"
      },
      "source": [
        "area_Y.groupby('day_type')['bluecars_taken_sum'].describe()"
      ],
      "execution_count": 64,
      "outputs": [
        {
          "output_type": "execute_result",
          "data": {
            "text/html": [
              "<div>\n",
              "<style scoped>\n",
              "    .dataframe tbody tr th:only-of-type {\n",
              "        vertical-align: middle;\n",
              "    }\n",
              "\n",
              "    .dataframe tbody tr th {\n",
              "        vertical-align: top;\n",
              "    }\n",
              "\n",
              "    .dataframe thead th {\n",
              "        text-align: right;\n",
              "    }\n",
              "</style>\n",
              "<table border=\"1\" class=\"dataframe\">\n",
              "  <thead>\n",
              "    <tr style=\"text-align: right;\">\n",
              "      <th></th>\n",
              "      <th>count</th>\n",
              "      <th>mean</th>\n",
              "      <th>std</th>\n",
              "      <th>min</th>\n",
              "      <th>25%</th>\n",
              "      <th>50%</th>\n",
              "      <th>75%</th>\n",
              "      <th>max</th>\n",
              "    </tr>\n",
              "    <tr>\n",
              "      <th>day_type</th>\n",
              "      <th></th>\n",
              "      <th></th>\n",
              "      <th></th>\n",
              "      <th></th>\n",
              "      <th></th>\n",
              "      <th></th>\n",
              "      <th></th>\n",
              "      <th></th>\n",
              "    </tr>\n",
              "  </thead>\n",
              "  <tbody>\n",
              "    <tr>\n",
              "      <th>weekday</th>\n",
              "      <td>112.0</td>\n",
              "      <td>696.571429</td>\n",
              "      <td>84.898744</td>\n",
              "      <td>38.0</td>\n",
              "      <td>666.25</td>\n",
              "      <td>708.0</td>\n",
              "      <td>740.00</td>\n",
              "      <td>850.0</td>\n",
              "    </tr>\n",
              "    <tr>\n",
              "      <th>weekend</th>\n",
              "      <td>44.0</td>\n",
              "      <td>831.022727</td>\n",
              "      <td>159.843454</td>\n",
              "      <td>51.0</td>\n",
              "      <td>792.50</td>\n",
              "      <td>858.0</td>\n",
              "      <td>929.75</td>\n",
              "      <td>992.0</td>\n",
              "    </tr>\n",
              "  </tbody>\n",
              "</table>\n",
              "</div>"
            ],
            "text/plain": [
              "          count        mean         std   min     25%    50%     75%    max\n",
              "day_type                                                                   \n",
              "weekday   112.0  696.571429   84.898744  38.0  666.25  708.0  740.00  850.0\n",
              "weekend    44.0  831.022727  159.843454  51.0  792.50  858.0  929.75  992.0"
            ]
          },
          "metadata": {
            "tags": []
          },
          "execution_count": 64
        }
      ]
    },
    {
      "cell_type": "code",
      "metadata": {
        "id": "U2qYMVV4Z9yn",
        "colab_type": "code",
        "colab": {}
      },
      "source": [
        "\n",
        "\n",
        "area_X = df[df.postal_code == 75015]\n",
        "area_X.reset_index(inplace= True)"
      ],
      "execution_count": 0,
      "outputs": []
    },
    {
      "cell_type": "code",
      "metadata": {
        "id": "h4v_W77T8Yup",
        "colab_type": "code",
        "colab": {
          "base_uri": "https://localhost:8080/",
          "height": 133
        },
        "outputId": "8b124e62-4e65-4ded-ced7-bedd4648a65e"
      },
      "source": [
        "area_X.groupby('day_type')['bluecars_taken_sum'].describe()"
      ],
      "execution_count": 63,
      "outputs": [
        {
          "output_type": "execute_result",
          "data": {
            "text/html": [
              "<div>\n",
              "<style scoped>\n",
              "    .dataframe tbody tr th:only-of-type {\n",
              "        vertical-align: middle;\n",
              "    }\n",
              "\n",
              "    .dataframe tbody tr th {\n",
              "        vertical-align: top;\n",
              "    }\n",
              "\n",
              "    .dataframe thead th {\n",
              "        text-align: right;\n",
              "    }\n",
              "</style>\n",
              "<table border=\"1\" class=\"dataframe\">\n",
              "  <thead>\n",
              "    <tr style=\"text-align: right;\">\n",
              "      <th></th>\n",
              "      <th>count</th>\n",
              "      <th>mean</th>\n",
              "      <th>std</th>\n",
              "      <th>min</th>\n",
              "      <th>25%</th>\n",
              "      <th>50%</th>\n",
              "      <th>75%</th>\n",
              "      <th>max</th>\n",
              "    </tr>\n",
              "    <tr>\n",
              "      <th>day_type</th>\n",
              "      <th></th>\n",
              "      <th></th>\n",
              "      <th></th>\n",
              "      <th></th>\n",
              "      <th></th>\n",
              "      <th></th>\n",
              "      <th></th>\n",
              "      <th></th>\n",
              "    </tr>\n",
              "  </thead>\n",
              "  <tbody>\n",
              "    <tr>\n",
              "      <th>weekday</th>\n",
              "      <td>112.0</td>\n",
              "      <td>827.883929</td>\n",
              "      <td>125.243816</td>\n",
              "      <td>49.0</td>\n",
              "      <td>756.75</td>\n",
              "      <td>826.5</td>\n",
              "      <td>894.0</td>\n",
              "      <td>1093.0</td>\n",
              "    </tr>\n",
              "    <tr>\n",
              "      <th>weekend</th>\n",
              "      <td>44.0</td>\n",
              "      <td>1072.772727</td>\n",
              "      <td>211.909136</td>\n",
              "      <td>58.0</td>\n",
              "      <td>1001.75</td>\n",
              "      <td>1084.5</td>\n",
              "      <td>1169.5</td>\n",
              "      <td>1352.0</td>\n",
              "    </tr>\n",
              "  </tbody>\n",
              "</table>\n",
              "</div>"
            ],
            "text/plain": [
              "          count         mean         std   min      25%     50%     75%     max\n",
              "day_type                                                                       \n",
              "weekday   112.0   827.883929  125.243816  49.0   756.75   826.5   894.0  1093.0\n",
              "weekend    44.0  1072.772727  211.909136  58.0  1001.75  1084.5  1169.5  1352.0"
            ]
          },
          "metadata": {
            "tags": []
          },
          "execution_count": 63
        }
      ]
    },
    {
      "cell_type": "code",
      "metadata": {
        "id": "31-MgJL08Ysr",
        "colab_type": "code",
        "colab": {}
      },
      "source": [
        "stats.ttest_ind(a=gujarat_ages,b=maharashtra_ages,equal_var=False)\n"
      ],
      "execution_count": 0,
      "outputs": []
    },
    {
      "cell_type": "code",
      "metadata": {
        "id": "ObQXHkgFZ9v7",
        "colab_type": "code",
        "colab": {
          "base_uri": "https://localhost:8080/",
          "height": 33
        },
        "outputId": "1aba8284-d756-4cca-8a35-1a3a556fa665"
      },
      "source": [
        "sample_data=df.sample(n=2,replace=\"False\")\n",
        "sample_data.shape"
      ],
      "execution_count": 31,
      "outputs": [
        {
          "output_type": "execute_result",
          "data": {
            "text/plain": [
              "(2, 9)"
            ]
          },
          "metadata": {
            "tags": []
          },
          "execution_count": 31
        }
      ]
    },
    {
      "cell_type": "code",
      "metadata": {
        "id": "iphOUWVn8YyV",
        "colab_type": "code",
        "colab": {}
      },
      "source": [
        "#We can see that mean on area_X is 827.88 and mean on the area_Y is 696.57. Definitely we can\n",
        "#see that there is difference in the means weekdays.\n",
        "\n"
      ],
      "execution_count": 0,
      "outputs": []
    },
    {
      "cell_type": "code",
      "metadata": {
        "id": "s7NUbgAQRaZ5",
        "colab_type": "code",
        "colab": {
          "base_uri": "https://localhost:8080/",
          "height": 33
        },
        "outputId": "15def2e0-aed8-4838-dd59-f3b87463f2a1"
      },
      "source": [
        "stats.levene(area_X['bluecars_taken_sum'], area_Y['bluecars_taken_sum'])\n",
        "\n"
      ],
      "execution_count": 123,
      "outputs": [
        {
          "output_type": "execute_result",
          "data": {
            "text/plain": [
              "LeveneResult(statistic=19.266236308125496, pvalue=1.5612099137898675e-05)"
            ]
          },
          "metadata": {
            "tags": []
          },
          "execution_count": 123
        }
      ]
    },
    {
      "cell_type": "code",
      "metadata": {
        "id": "OujMWi28UMb2",
        "colab_type": "code",
        "colab": {}
      },
      "source": [
        "diff = area_X['bluecars_taken_sum'] - area_Y['bluecars_taken_sum']"
      ],
      "execution_count": 0,
      "outputs": []
    },
    {
      "cell_type": "code",
      "metadata": {
        "id": "y97NlxsOUMV_",
        "colab_type": "code",
        "colab": {
          "base_uri": "https://localhost:8080/",
          "height": 295
        },
        "outputId": "eb21296a-4282-40b6-9213-9dd65b2cd54b"
      },
      "source": [
        "stats.probplot(diff, plot= plt)\n",
        "plt.title('bluecars_taken P-P Plot') \n",
        "plt.savefig('bluecars_taken Residuals.png')"
      ],
      "execution_count": 115,
      "outputs": [
        {
          "output_type": "display_data",
          "data": {
            "image/png": "[encoded data removed]",
            "text/plain": [
              "<Figure size 432x288 with 1 Axes>"
            ]
          },
          "metadata": {
            "tags": [],
            "needs_background": "light"
          }
        }
      ]
    },
    {
      "cell_type": "code",
      "metadata": {
        "id": "8zxP0U1OU-Rl",
        "colab_type": "code",
        "colab": {
          "base_uri": "https://localhost:8080/",
          "height": 295
        },
        "outputId": "0c7e94f5-3923-4d44-c5f1-26ac1d5a0404"
      },
      "source": [
        "diff.plot(kind= \"hist\", title= \"bluecars_taken Residuals\")\n",
        "plt.xlabel(\"quantity\")\n",
        "plt.savefig(\"Residuals Plot of bluecars_taken.png\")"
      ],
      "execution_count": 116,
      "outputs": [
        {
          "output_type": "display_data",
          "data": {
            "image/png": "[encoded data removed]",
            "text/plain": [
              "<Figure size 432x288 with 1 Axes>"
            ]
          },
          "metadata": {
            "tags": [],
            "needs_background": "light"
          }
        }
      ]
    },
    {
      "cell_type": "code",
      "metadata": {
        "id": "hGqFNJZiU-Ue",
        "colab_type": "code",
        "colab": {
          "base_uri": "https://localhost:8080/",
          "height": 33
        },
        "outputId": "cc9fc8f4-c00f-4fa0-b270-12fd2f058880"
      },
      "source": [
        "#Since the test statistic does not produce a significant p-value, the data is indicated to be normally distributed.\n",
        "stats.shapiro(diff)\n"
      ],
      "execution_count": 117,
      "outputs": [
        {
          "output_type": "execute_result",
          "data": {
            "text/plain": [
              "(0.9832109808921814, 0.055064063519239426)"
            ]
          },
          "metadata": {
            "tags": []
          },
          "execution_count": 117
        }
      ]
    },
    {
      "cell_type": "code",
      "metadata": {
        "id": "FQXrGYGWVd8k",
        "colab_type": "code",
        "colab": {
          "base_uri": "https://localhost:8080/",
          "height": 50
        },
        "outputId": "6c1c75b8-9629-4898-a650-f27ce9a50a33"
      },
      "source": [
        "stats.ttest_ind(area_X['bluecars_taken_sum'], area_Y['bluecars_taken_sum'])\n",
        "print(p_value)\n",
        "if p_value > 0.05:\n",
        "  print(\"DO NOT REJECT THE NULL HYPOTHESIS\")\n",
        "else:\n",
        "  print(\"REJECT THE NULL HYPOTHESIS\")"
      ],
      "execution_count": 119,
      "outputs": [
        {
          "output_type": "stream",
          "text": [
            "0.05506671965122223\n",
            "DO NOT REJECT THE NULL HYPOTHESIS\n"
          ],
          "name": "stdout"
        }
      ]
    },
    {
      "cell_type": "code",
      "metadata": {
        "id": "df1xaiwcVeAu",
        "colab_type": "code",
        "colab": {}
      },
      "source": [
        ""
      ],
      "execution_count": 0,
      "outputs": []
    },
    {
      "cell_type": "code",
      "metadata": {
        "id": "xgDXG-beVd7N",
        "colab_type": "code",
        "colab": {}
      },
      "source": [
        ""
      ],
      "execution_count": 0,
      "outputs": []
    },
    {
      "cell_type": "code",
      "metadata": {
        "id": "3790UqUHEtdX",
        "colab_type": "code",
        "colab": {}
      },
      "source": [
        ""
      ],
      "execution_count": 0,
      "outputs": []
    },
    {
      "cell_type": "code",
      "metadata": {
        "id": "jfSwOWiT3ORw",
        "colab_type": "code",
        "colab": {}
      },
      "source": [
        ""
      ],
      "execution_count": 0,
      "outputs": []
    }
  ]
}